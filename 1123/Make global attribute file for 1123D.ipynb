{
 "cells": [
  {
   "cell_type": "markdown",
   "metadata": {},
   "source": [
    "Make global attribute file for Mooring 1123D\n",
    "------------------------------------------\n",
    "\n",
    "Docs are here  https://stglib.readthedocs.io/en/latest/"
   ]
  },
  {
   "cell_type": "markdown",
   "metadata": {},
   "source": [
    "The global attribute file sets pertinent metadata for the deployment site, and may be used for all the instruments deployed on a given platform.  The instrument congfiguration is specific processing information for a specific instrument. It is in YAML format.  This notebook creates them.  Alternatively, you may upload them to your cloud workspace.  It is best not to have too many copies of the global attributes files.  Mistakes inthem can propagate through the data and it is this metadata that we need to have consistent."
   ]
  },
  {
   "cell_type": "markdown",
   "metadata": {},
   "source": [
    "***User information:***"
   ]
  },
  {
   "cell_type": "markdown",
   "metadata": {},
   "source": [
    "Edit these cells as apropriate for your experiment"
   ]
  },
  {
   "cell_type": "code",
   "execution_count": 1,
   "metadata": {},
   "outputs": [],
   "source": [
    "data_directory = r'./'"
   ]
  },
  {
   "cell_type": "markdown",
   "metadata": {},
   "source": [
    "**Note about netCDF data conventions:**\n",
    "\n",
    "We are transitioning between data conventions.  Going forward, CF will be preferred, especially when working in python. THis has signficiant consequences on how time is defined (time or time and time2).  Historical data will be in EPIC.  One or the other may break code, so you may consider making a version in each.\n",
    "- Use 'Conventions': 'PMEL/EPIC' for PMEL\n",
    "- Use 'Conventions': 'CF-1.6' for CF\n",
    "\n",
    "Currently, `'CF-1.6'` works for `runrskrsk2cdf.py` and ` runrskcdf2nc.py` and not for `runrsknc2waves.py`"
   ]
  },
  {
   "cell_type": "markdown",
   "metadata": {},
   "source": [
    "Gobal attribute information"
   ]
  },
  {
   "cell_type": "code",
   "execution_count": 2,
   "metadata": {},
   "outputs": [],
   "source": [
    "gfile_name = '../glob_att1123D.txt'\n",
    "global_attributes = {'SciPi': 'N. Ganju',\n",
    "    'PROJECT': ' USGS Coastal and Marine Geology Program',\n",
    "    'EXPERIMENT': 'NRPP',\n",
    "    'DESCRIPTION': 'Wellfleet Herring River, Gut Flank Deep',  # this is from the mooring log\n",
    "    'DATA_SUBTYPE': 'MOORED',\n",
    "    'DATA_ORIGIN': 'USGS WHCMSC Sed Trans Group',\n",
    "    'COORD_SYSTEM': 'GEOGRAPHIC',\n",
    "    'Conventions': 'PMEL/EPIC',\n",
    "    'MOORING': '1123',\n",
    "    'WATER_DEPTH': 0.23,\n",
    "    'WATER_DEPTH_NOTE': '(meters), nominal depth',\n",
    "    'latitude': 41.926364734,\n",
    "    'longitude': -70.068807462,\n",
    "    'magnetic_variation': -14.72,\n",
    "    'Deployment_date': '2019-09-19 13:42:00', # be sure to always include the seconds\n",
    "    'Recovery_date': '2019-11-19 15:28:00',\n",
    "    'DATA_CMNT': ' ',\n",
    "    'platform_type': 'Spyder Frame',\n",
    "    'DRIFTER': ' 0',\n",
    "    'POS_CONST': ' 0',\n",
    "    'DEPTH_CONST': ' 0',\n",
    "    'WATER_MASS': 'Herring River, MA',\n",
    "    'VAR_FILL': ' 1.e+35',\n",
    "    'institution': ' United States Geological Survey, Woods Hole Coastal and Marine Science Center',\n",
    "    'institution_url': ' https://woodshole.er.usgs.gov'\n",
    "        }"
   ]
  },
  {
   "cell_type": "raw",
   "metadata": {},
   "source": [
    "Instrument configuration for an RBR D|wave"
   ]
  },
  {
   "cell_type": "raw",
   "metadata": {},
   "source": [
    "instrument_subdirectory = 'Dwave_55025/'\n",
    "mooring_subset_indicator = 'D' # used when a reseracher prefers not to use a new mooring number when re-occupying the same site\n",
    "ifile_name = global_attributes['MOORING']+mooring_subset_indicator+'dw.yml'\n",
    "instrument_config = {\n",
    "    'basefile': 'Dwave_055025', # input file, usually .rsk\n",
    "    'filename': global_attributes['MOORING']+mooring_subset_indicator+'dw', # name of output file, -raw.cdf or .nc will be appended\n",
    "    'LatLonDatum': 'NAD83',\n",
    "    'initial_instrument_height': 0.42,  # meters \n",
    "    'wp_max': 4,\n",
    "    'wh_min': 0.02,\n",
    "    'wp_ratio': 2,\n",
    "    'P_1ac_note': 'Corrected for variations in atmospheric pressure using data from nearby met station (F0901 and D9542).'\n",
    "}"
   ]
  },
  {
   "cell_type": "markdown",
   "metadata": {},
   "source": [
    "***Code to make the file(s):***"
   ]
  },
  {
   "cell_type": "code",
   "execution_count": 4,
   "metadata": {},
   "outputs": [],
   "source": [
    "import os"
   ]
  },
  {
   "cell_type": "code",
   "execution_count": 5,
   "metadata": {},
   "outputs": [
    {
     "data": {
      "text/plain": [
       "'D:\\\\data\\\\NRPP\\\\CACO\\\\1123\\\\1123D\\\\Dwave_55025'"
      ]
     },
     "execution_count": 5,
     "metadata": {},
     "output_type": "execute_result"
    }
   ],
   "source": [
    "os.getcwd()"
   ]
  },
  {
   "cell_type": "code",
   "execution_count": 6,
   "metadata": {},
   "outputs": [],
   "source": [
    "with open(data_directory + gfile_name,'w') as fp:\n",
    "    for key in global_attributes.keys():\n",
    "        print(f'    {key}; {global_attributes[key]}', file=fp)"
   ]
  },
  {
   "cell_type": "raw",
   "metadata": {},
   "source": [
    "with open(data_directory + instrument_subdirectory + ifile_name,'w') as fp:\n",
    "    for key in instrument_config.keys():\n",
    "        print(f'    {key}: {instrument_config[key]}', file=fp)"
   ]
  }
 ],
 "metadata": {
  "kernelspec": {
   "display_name": "Python [conda env:favs] *",
   "language": "python",
   "name": "conda-env-favs-py"
  },
  "language_info": {
   "codemirror_mode": {
    "name": "ipython",
    "version": 3
   },
   "file_extension": ".py",
   "mimetype": "text/x-python",
   "name": "python",
   "nbconvert_exporter": "python",
   "pygments_lexer": "ipython3",
   "version": "3.7.6"
  }
 },
 "nbformat": 4,
 "nbformat_minor": 4
}
